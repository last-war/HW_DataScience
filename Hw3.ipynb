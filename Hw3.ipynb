{
  "nbformat": 4,
  "nbformat_minor": 0,
  "metadata": {
    "colab": {
      "provenance": [],
      "mount_file_id": "1QeG7VD5wdXO4CJydmunG_dBtSgwG420_",
      "authorship_tag": "ABX9TyNKdvoHGq/FqPC9CQHbZhVh",
      "include_colab_link": true
    },
    "kernelspec": {
      "name": "python3",
      "display_name": "Python 3"
    },
    "language_info": {
      "name": "python"
    }
  },
  "cells": [
    {
      "cell_type": "markdown",
      "metadata": {
        "id": "view-in-github",
        "colab_type": "text"
      },
      "source": [
        "<a href=\"https://colab.research.google.com/github/last-war/HW_DataScience/blob/Homework-03/Hw3.ipynb\" target=\"_parent\"><img src=\"https://colab.research.google.com/assets/colab-badge.svg\" alt=\"Open In Colab\"/></a>"
      ]
    },
    {
      "cell_type": "code",
      "execution_count": 2,
      "metadata": {
        "colab": {
          "base_uri": "https://localhost:8080/",
          "height": 206
        },
        "id": "RZ0jUVQ_MlIr",
        "outputId": "1ec1c84c-6311-4191-e84b-3a5a667c0f40"
      },
      "outputs": [
        {
          "output_type": "execute_result",
          "data": {
            "text/plain": [
              "      price  area  bedrooms  bathrooms  stories mainroad guestroom basement  \\\n",
              "0  13300000  7420         4          2        3      yes        no       no   \n",
              "1  12250000  8960         4          4        4      yes        no       no   \n",
              "2  12250000  9960         3          2        2      yes        no      yes   \n",
              "3  12215000  7500         4          2        2      yes        no      yes   \n",
              "4  11410000  7420         4          1        2      yes       yes      yes   \n",
              "\n",
              "  hotwaterheating airconditioning  parking prefarea furnishingstatus  \n",
              "0              no             yes        2      yes        furnished  \n",
              "1              no             yes        3       no        furnished  \n",
              "2              no              no        2      yes   semi-furnished  \n",
              "3              no             yes        3      yes        furnished  \n",
              "4              no             yes        2       no        furnished  "
            ],
            "text/html": [
              "\n",
              "  <div id=\"df-c7339910-28c4-47ce-bd75-d96a6b387446\">\n",
              "    <div class=\"colab-df-container\">\n",
              "      <div>\n",
              "<style scoped>\n",
              "    .dataframe tbody tr th:only-of-type {\n",
              "        vertical-align: middle;\n",
              "    }\n",
              "\n",
              "    .dataframe tbody tr th {\n",
              "        vertical-align: top;\n",
              "    }\n",
              "\n",
              "    .dataframe thead th {\n",
              "        text-align: right;\n",
              "    }\n",
              "</style>\n",
              "<table border=\"1\" class=\"dataframe\">\n",
              "  <thead>\n",
              "    <tr style=\"text-align: right;\">\n",
              "      <th></th>\n",
              "      <th>price</th>\n",
              "      <th>area</th>\n",
              "      <th>bedrooms</th>\n",
              "      <th>bathrooms</th>\n",
              "      <th>stories</th>\n",
              "      <th>mainroad</th>\n",
              "      <th>guestroom</th>\n",
              "      <th>basement</th>\n",
              "      <th>hotwaterheating</th>\n",
              "      <th>airconditioning</th>\n",
              "      <th>parking</th>\n",
              "      <th>prefarea</th>\n",
              "      <th>furnishingstatus</th>\n",
              "    </tr>\n",
              "  </thead>\n",
              "  <tbody>\n",
              "    <tr>\n",
              "      <th>0</th>\n",
              "      <td>13300000</td>\n",
              "      <td>7420</td>\n",
              "      <td>4</td>\n",
              "      <td>2</td>\n",
              "      <td>3</td>\n",
              "      <td>yes</td>\n",
              "      <td>no</td>\n",
              "      <td>no</td>\n",
              "      <td>no</td>\n",
              "      <td>yes</td>\n",
              "      <td>2</td>\n",
              "      <td>yes</td>\n",
              "      <td>furnished</td>\n",
              "    </tr>\n",
              "    <tr>\n",
              "      <th>1</th>\n",
              "      <td>12250000</td>\n",
              "      <td>8960</td>\n",
              "      <td>4</td>\n",
              "      <td>4</td>\n",
              "      <td>4</td>\n",
              "      <td>yes</td>\n",
              "      <td>no</td>\n",
              "      <td>no</td>\n",
              "      <td>no</td>\n",
              "      <td>yes</td>\n",
              "      <td>3</td>\n",
              "      <td>no</td>\n",
              "      <td>furnished</td>\n",
              "    </tr>\n",
              "    <tr>\n",
              "      <th>2</th>\n",
              "      <td>12250000</td>\n",
              "      <td>9960</td>\n",
              "      <td>3</td>\n",
              "      <td>2</td>\n",
              "      <td>2</td>\n",
              "      <td>yes</td>\n",
              "      <td>no</td>\n",
              "      <td>yes</td>\n",
              "      <td>no</td>\n",
              "      <td>no</td>\n",
              "      <td>2</td>\n",
              "      <td>yes</td>\n",
              "      <td>semi-furnished</td>\n",
              "    </tr>\n",
              "    <tr>\n",
              "      <th>3</th>\n",
              "      <td>12215000</td>\n",
              "      <td>7500</td>\n",
              "      <td>4</td>\n",
              "      <td>2</td>\n",
              "      <td>2</td>\n",
              "      <td>yes</td>\n",
              "      <td>no</td>\n",
              "      <td>yes</td>\n",
              "      <td>no</td>\n",
              "      <td>yes</td>\n",
              "      <td>3</td>\n",
              "      <td>yes</td>\n",
              "      <td>furnished</td>\n",
              "    </tr>\n",
              "    <tr>\n",
              "      <th>4</th>\n",
              "      <td>11410000</td>\n",
              "      <td>7420</td>\n",
              "      <td>4</td>\n",
              "      <td>1</td>\n",
              "      <td>2</td>\n",
              "      <td>yes</td>\n",
              "      <td>yes</td>\n",
              "      <td>yes</td>\n",
              "      <td>no</td>\n",
              "      <td>yes</td>\n",
              "      <td>2</td>\n",
              "      <td>no</td>\n",
              "      <td>furnished</td>\n",
              "    </tr>\n",
              "  </tbody>\n",
              "</table>\n",
              "</div>\n",
              "      <button class=\"colab-df-convert\" onclick=\"convertToInteractive('df-c7339910-28c4-47ce-bd75-d96a6b387446')\"\n",
              "              title=\"Convert this dataframe to an interactive table.\"\n",
              "              style=\"display:none;\">\n",
              "        \n",
              "  <svg xmlns=\"http://www.w3.org/2000/svg\" height=\"24px\"viewBox=\"0 0 24 24\"\n",
              "       width=\"24px\">\n",
              "    <path d=\"M0 0h24v24H0V0z\" fill=\"none\"/>\n",
              "    <path d=\"M18.56 5.44l.94 2.06.94-2.06 2.06-.94-2.06-.94-.94-2.06-.94 2.06-2.06.94zm-11 1L8.5 8.5l.94-2.06 2.06-.94-2.06-.94L8.5 2.5l-.94 2.06-2.06.94zm10 10l.94 2.06.94-2.06 2.06-.94-2.06-.94-.94-2.06-.94 2.06-2.06.94z\"/><path d=\"M17.41 7.96l-1.37-1.37c-.4-.4-.92-.59-1.43-.59-.52 0-1.04.2-1.43.59L10.3 9.45l-7.72 7.72c-.78.78-.78 2.05 0 2.83L4 21.41c.39.39.9.59 1.41.59.51 0 1.02-.2 1.41-.59l7.78-7.78 2.81-2.81c.8-.78.8-2.07 0-2.86zM5.41 20L4 18.59l7.72-7.72 1.47 1.35L5.41 20z\"/>\n",
              "  </svg>\n",
              "      </button>\n",
              "      \n",
              "  <style>\n",
              "    .colab-df-container {\n",
              "      display:flex;\n",
              "      flex-wrap:wrap;\n",
              "      gap: 12px;\n",
              "    }\n",
              "\n",
              "    .colab-df-convert {\n",
              "      background-color: #E8F0FE;\n",
              "      border: none;\n",
              "      border-radius: 50%;\n",
              "      cursor: pointer;\n",
              "      display: none;\n",
              "      fill: #1967D2;\n",
              "      height: 32px;\n",
              "      padding: 0 0 0 0;\n",
              "      width: 32px;\n",
              "    }\n",
              "\n",
              "    .colab-df-convert:hover {\n",
              "      background-color: #E2EBFA;\n",
              "      box-shadow: 0px 1px 2px rgba(60, 64, 67, 0.3), 0px 1px 3px 1px rgba(60, 64, 67, 0.15);\n",
              "      fill: #174EA6;\n",
              "    }\n",
              "\n",
              "    [theme=dark] .colab-df-convert {\n",
              "      background-color: #3B4455;\n",
              "      fill: #D2E3FC;\n",
              "    }\n",
              "\n",
              "    [theme=dark] .colab-df-convert:hover {\n",
              "      background-color: #434B5C;\n",
              "      box-shadow: 0px 1px 3px 1px rgba(0, 0, 0, 0.15);\n",
              "      filter: drop-shadow(0px 1px 2px rgba(0, 0, 0, 0.3));\n",
              "      fill: #FFFFFF;\n",
              "    }\n",
              "  </style>\n",
              "\n",
              "      <script>\n",
              "        const buttonEl =\n",
              "          document.querySelector('#df-c7339910-28c4-47ce-bd75-d96a6b387446 button.colab-df-convert');\n",
              "        buttonEl.style.display =\n",
              "          google.colab.kernel.accessAllowed ? 'block' : 'none';\n",
              "\n",
              "        async function convertToInteractive(key) {\n",
              "          const element = document.querySelector('#df-c7339910-28c4-47ce-bd75-d96a6b387446');\n",
              "          const dataTable =\n",
              "            await google.colab.kernel.invokeFunction('convertToInteractive',\n",
              "                                                     [key], {});\n",
              "          if (!dataTable) return;\n",
              "\n",
              "          const docLinkHtml = 'Like what you see? Visit the ' +\n",
              "            '<a target=\"_blank\" href=https://colab.research.google.com/notebooks/data_table.ipynb>data table notebook</a>'\n",
              "            + ' to learn more about interactive tables.';\n",
              "          element.innerHTML = '';\n",
              "          dataTable['output_type'] = 'display_data';\n",
              "          await google.colab.output.renderOutput(dataTable, element);\n",
              "          const docLink = document.createElement('div');\n",
              "          docLink.innerHTML = docLinkHtml;\n",
              "          element.appendChild(docLink);\n",
              "        }\n",
              "      </script>\n",
              "    </div>\n",
              "  </div>\n",
              "  "
            ]
          },
          "metadata": {},
          "execution_count": 2
        }
      ],
      "source": [
        "import numpy as np\n",
        "import matplotlib.pyplot as plt\n",
        "import pandas as pd\n",
        "from sklearn.linear_model import LinearRegression\n",
        "from sklearn.preprocessing import MinMaxScaler\n",
        "\n",
        "df = pd.read_csv('/content/drive/MyDrive/Colab Notebooks/Housing.csv')\n",
        "df.head()"
      ]
    },
    {
      "cell_type": "markdown",
      "source": [
        "напишіть функцію гіпотези лінійної регресії у векторному вигляді;\n",
        "\n",
        "реалізуйте один крок градієнтного спуску;"
      ],
      "metadata": {
        "id": "HyrpZchONv1B"
      }
    },
    {
      "cell_type": "code",
      "source": [
        "class StudyLR:\n",
        "    def __init__(self, lr: float = 0.01, thr: float = 0.0001, itr: int = 1000, count_w: int = 1):\n",
        "        self.lr = lr\n",
        "        self.thr = thr\n",
        "        self.itr = itr\n",
        "        self.w = np.array([x * 1. for x in range(count_w)])\n",
        "\n",
        "    def predict(self, X: np.ndarray) -> list:\n",
        "        return X @ self.w\n",
        "\n",
        "    def update_w(self, X: np.array, y: np.array):\n",
        "        self.w -= self.lr / len(y) * X.T @ (self.predict(X) - y)\n",
        "\n",
        "    def fit(self, X: np.array, y: np.array):\n",
        "        print(y)\n",
        "        last_cost = 1000\n",
        "\n",
        "        for i in range(self.itr):\n",
        "            self.update_w(X, y)\n",
        "\n",
        "            new_cost = cost(y, self.predict(X))\n",
        "            if last_cost - new_cost < self.thr:\n",
        "                print(i)\n",
        "                print(f\"w {self.w}\")\n",
        "                break\n",
        "            last_cost = new_cost\n",
        "        print(f\"w {self.w}\")"
      ],
      "metadata": {
        "id": "ZsfbHl7ANwx4"
      },
      "execution_count": 12,
      "outputs": []
    },
    {
      "cell_type": "markdown",
      "source": [
        "створіть функцію для обчислення функції втрат у векторному вигляді;"
      ],
      "metadata": {
        "id": "zyI8XWXWNw5X"
      }
    },
    {
      "cell_type": "code",
      "source": [
        "def cost(y: np.array, h: np.array) -> float:\n",
        "    return np.mean((h - y) ** 2) / 2"
      ],
      "metadata": {
        "id": "GtiMDPl1Nzep"
      },
      "execution_count": 13,
      "outputs": []
    },
    {
      "cell_type": "markdown",
      "source": [
        "знайдіть найкращі параметри ⃗ w   для датасету прогнозуючу ціну на будинок залежно від площі, кількості ванних кімнат та кількості спалень;"
      ],
      "metadata": {
        "id": "adqZ2SA3N1mY"
      }
    },
    {
      "cell_type": "code",
      "source": [
        "X = df[['area', 'bathrooms', 'bedrooms']]\n",
        "y = df['price']/1000000\n",
        "X['area'] = X['area']/1000\n",
        "\n",
        "linear_regression = StudyLR(count_w=X.shape[1], itr=1000)\n",
        "linear_regression.fit(X, y)\n",
        "print(linear_regression.w)\n"
      ],
      "metadata": {
        "id": "TllnhRtoN6pf",
        "colab": {
          "base_uri": "https://localhost:8080/"
        },
        "outputId": "bf00bde6-865b-4ae2-d039-5797f3ec9fe7"
      },
      "execution_count": 14,
      "outputs": [
        {
          "output_type": "stream",
          "name": "stderr",
          "text": [
            "<ipython-input-14-471ae185b92c>:3: SettingWithCopyWarning: \n",
            "A value is trying to be set on a copy of a slice from a DataFrame.\n",
            "Try using .loc[row_indexer,col_indexer] = value instead\n",
            "\n",
            "See the caveats in the documentation: https://pandas.pydata.org/pandas-docs/stable/user_guide/indexing.html#returning-a-view-versus-a-copy\n",
            "  X['area'] = X['area']/1000\n"
          ]
        },
        {
          "output_type": "stream",
          "name": "stdout",
          "text": [
            "0      13.30000\n",
            "1      12.25000\n",
            "2      12.25000\n",
            "3      12.21500\n",
            "4      11.41000\n",
            "         ...   \n",
            "540     1.82000\n",
            "541     1.76715\n",
            "542     1.75000\n",
            "543     1.75000\n",
            "544     1.75000\n",
            "Name: price, Length: 545, dtype: float64\n",
            "314\n",
            "w area         0.377248\n",
            "bathrooms    0.908417\n",
            "bedrooms     0.562263\n",
            "dtype: float64\n",
            "w area         0.377248\n",
            "bathrooms    0.908417\n",
            "bedrooms     0.562263\n",
            "dtype: float64\n",
            "area         0.377248\n",
            "bathrooms    0.908417\n",
            "bedrooms     0.562263\n",
            "dtype: float64\n"
          ]
        }
      ]
    },
    {
      "cell_type": "markdown",
      "source": [
        "знайдіть ці ж параметри за допомогою аналітичного рішення;"
      ],
      "metadata": {
        "id": "ahC84RSqN6yi"
      }
    },
    {
      "cell_type": "code",
      "source": [
        "X = df[['area', 'bathrooms', 'bedrooms']][:3]\n",
        "y = df['price'][:3]/1000000\n",
        "X['area'] = X['area']/1000\n",
        "\n",
        "X = np.array(X)\n",
        "h = np.array(y)\n",
        "\n",
        "X_inv = np.linalg.inv(X)\n",
        "\n",
        "w = X_inv.dot(h)\n",
        "\n",
        "w = X_inv @ h\n",
        "\n",
        "print(w)\n"
      ],
      "metadata": {
        "id": "ru_HcLZZN83f",
        "colab": {
          "base_uri": "https://localhost:8080/"
        },
        "outputId": "7dd015a2-4905-44a8-c060-5e8bf0eaa2e8"
      },
      "execution_count": 17,
      "outputs": [
        {
          "output_type": "stream",
          "name": "stdout",
          "text": [
            "[ 0.63279302 -1.01225062  2.65729426]\n"
          ]
        }
      ]
    },
    {
      "cell_type": "markdown",
      "source": [
        "порівняйте отримані результати."
      ],
      "metadata": {
        "id": "U1PbOuqyN9Bf"
      }
    },
    {
      "cell_type": "code",
      "source": [
        "X = df[['area', 'bathrooms', 'bedrooms']]\n",
        "y = df['price']\n",
        "\n",
        "regressor = LinearRegression().fit(X, y)\n",
        "print(regressor.intercept_)\n",
        "print(regressor.n_features_in_)\n",
        "print(regressor.coef_)\n",
        "\n",
        "scaler = MinMaxScaler()\n",
        "nw_df = scaler.fit_transform(df.iloc[0:,0:4])\n",
        "X = nw_df[0:,1:4]\n",
        "y = nw_df[0:,0:1]\n",
        "regressor_norm = LinearRegression().fit(X, y)\n",
        "print(regressor_norm.intercept_)\n",
        "print(regressor_norm.n_features_in_)\n",
        "print(regressor_norm.coef_)\n"
      ],
      "metadata": {
        "id": "3rx5GAC_N_FO",
        "colab": {
          "base_uri": "https://localhost:8080/"
        },
        "outputId": "fb9a7208-1cc4-487b-8c59-ab1ffffcf929"
      },
      "execution_count": 5,
      "outputs": [
        {
          "output_type": "stream",
          "name": "stdout",
          "text": [
            "-173171.60763263796\n",
            "3\n",
            "[3.78762754e+02 1.38604950e+06 4.06820034e+05]\n",
            "[0.0428274]\n",
            "3\n",
            "[[0.47714269 0.17611257 0.36001286]]\n"
          ]
        }
      ]
    }
  ]
}