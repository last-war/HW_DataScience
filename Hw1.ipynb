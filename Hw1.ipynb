{
  "nbformat": 4,
  "nbformat_minor": 0,
  "metadata": {
    "colab": {
      "provenance": [],
      "authorship_tag": "ABX9TyOJGNxh6OefUERp2hP2uiHy",
      "include_colab_link": true
    },
    "kernelspec": {
      "name": "python3",
      "display_name": "Python 3"
    },
    "language_info": {
      "name": "python"
    }
  },
  "cells": [
    {
      "cell_type": "markdown",
      "metadata": {
        "id": "view-in-github",
        "colab_type": "text"
      },
      "source": [
        "<a href=\"https://colab.research.google.com/github/last-war/HW_DataScience/blob/Homework-01/Hw1.ipynb\" target=\"_parent\"><img src=\"https://colab.research.google.com/assets/colab-badge.svg\" alt=\"Open In Colab\"/></a>"
      ]
    },
    {
      "cell_type": "markdown",
      "source": [
        "1. Створіть одновимірний масив (вектор) з першими 10-ма натуральними числами та виведіть його значення."
      ],
      "metadata": {
        "id": "hn1XYEjTOfaG"
      }
    },
    {
      "cell_type": "code",
      "execution_count": null,
      "metadata": {
        "colab": {
          "base_uri": "https://localhost:8080/"
        },
        "id": "QFTiC5S6_LrF",
        "outputId": "b9f63ad4-b3c1-45a0-def0-c6febca6efd5"
      },
      "outputs": [
        {
          "output_type": "stream",
          "name": "stdout",
          "text": [
            "[ 1  2  3  4  5  6  7  8  9 10]\n"
          ]
        }
      ],
      "source": [
        "import numpy as np\n",
        "\n",
        "vect = np.array(np.arange(1, 11), dtype=int)\n",
        "print(vect)"
      ]
    },
    {
      "cell_type": "markdown",
      "source": [
        "2. Створіть двовимірний масив (матрицю) розміром 3x3, заповніть його нулями та виведіть його значення."
      ],
      "metadata": {
        "id": "hyB7EoQTOcWb"
      }
    },
    {
      "cell_type": "code",
      "source": [
        "import numpy as np\n",
        "\n",
        "matrix = np.zeros((3, 3), dtype=int)\n",
        "print(matrix)"
      ],
      "metadata": {
        "colab": {
          "base_uri": "https://localhost:8080/"
        },
        "id": "pv3Ni4-53oSN",
        "outputId": "fd4f0ea3-d197-4a26-df57-7ff966bc5705"
      },
      "execution_count": null,
      "outputs": [
        {
          "output_type": "stream",
          "name": "stdout",
          "text": [
            "[[0 0 0]\n",
            " [0 0 0]\n",
            " [0 0 0]]\n"
          ]
        }
      ]
    },
    {
      "cell_type": "markdown",
      "source": [
        "3. Створіть масив розміром 5x5, заповніть його випадковими цілими числами в діапазоні від 1 до 10 та виведіть його значення."
      ],
      "metadata": {
        "id": "AzQss1KjOUxq"
      }
    },
    {
      "cell_type": "code",
      "source": [
        "import numpy as np\n",
        "\n",
        "matrix = np.random.choice(np.arange(1, 11), size=(5, 5))\n",
        "\n",
        "print(matrix)"
      ],
      "metadata": {
        "id": "I1CNezdg34sT",
        "colab": {
          "base_uri": "https://localhost:8080/"
        },
        "outputId": "70c80b9c-0bd1-4e5b-c287-5ee6f6e741c7"
      },
      "execution_count": null,
      "outputs": [
        {
          "output_type": "stream",
          "name": "stdout",
          "text": [
            "[[ 1  4  8  8  3]\n",
            " [10  6  3  6  4]\n",
            " [ 5  8 10  3  1]\n",
            " [ 4  1 10  8  4]\n",
            " [ 3  2  8  1  5]]\n"
          ]
        }
      ]
    },
    {
      "cell_type": "markdown",
      "source": [
        "4. Створіть масив розміром 4x4, заповніть його випадковими дійсними числами в діапазоні від 0 до 1 та виведіть його значення."
      ],
      "metadata": {
        "id": "UL7mrCGvQrdo"
      }
    },
    {
      "cell_type": "code",
      "source": [
        "import numpy as np\n",
        "\n",
        "matrix = np.random.random((4, 4))\n",
        "print(matrix)"
      ],
      "metadata": {
        "colab": {
          "base_uri": "https://localhost:8080/"
        },
        "id": "NrYhd9sQQtAZ",
        "outputId": "7cecb540-2b22-4c36-e69f-e30f46f94633"
      },
      "execution_count": null,
      "outputs": [
        {
          "output_type": "stream",
          "name": "stdout",
          "text": [
            "[[0.78420492 0.20847391 0.09751149 0.40446884]\n",
            " [0.81512201 0.87320708 0.08358797 0.22790301]\n",
            " [0.07073748 0.08535871 0.08676688 0.26331227]\n",
            " [0.06472282 0.55474971 0.80358917 0.08027455]]\n"
          ]
        }
      ]
    },
    {
      "cell_type": "markdown",
      "source": [
        "Створіть два одновимірних масиви розміром 5, заповніть їх випадковими цілими числами в діапазоні від 1 до 10 та виконайте на них поелементні операції додавання, віднімання та множення.\n"
      ],
      "metadata": {
        "id": "gjioAAVYQ2O1"
      }
    },
    {
      "cell_type": "code",
      "source": [
        "import numpy as np\n",
        "\n",
        "matrix1 = np.random.choice(np.arange(1, 11), size=(5))\n",
        "matrix2 = np.random.choice(np.arange(1, 11), size=(5))\n",
        "print(matrix1)\n",
        "print(matrix2)\n",
        "print('Addition')\n",
        "mat_add = matrix1 + matrix2\n",
        "print(mat_add)\n",
        "print('Subtraction')\n",
        "mat_sub = matrix1 - matrix2\n",
        "print(mat_sub)\n",
        "print('Multiplication')\n",
        "mat_mul = matrix1 * matrix2\n",
        "print(mat_mul)\n"
      ],
      "metadata": {
        "colab": {
          "base_uri": "https://localhost:8080/"
        },
        "id": "8UbPClSCRm_6",
        "outputId": "8f9f1e37-86f6-42c6-f79d-1e7f3dc07a96"
      },
      "execution_count": null,
      "outputs": [
        {
          "output_type": "stream",
          "name": "stdout",
          "text": [
            "[4 9 4 5 7]\n",
            "[9 6 9 2 8]\n",
            "Addition\n",
            "[13 15 13  7 15]\n",
            "Subtraction\n",
            "[-5  3 -5  3 -1]\n",
            "Multiplication\n",
            "[36 54 36 10 56]\n"
          ]
        }
      ]
    },
    {
      "cell_type": "markdown",
      "source": [
        "\n",
        "Створіть два вектори розміром 7, заповніть довільними числами та знайдіть їх скалярний добуток.\n"
      ],
      "metadata": {
        "id": "3A2k8GogQ7qD"
      }
    },
    {
      "cell_type": "code",
      "source": [
        "import numpy as np\n",
        "\n",
        "matrix1 = np.random.choice(np.arange(1, 11), size=(7))\n",
        "matrix2 = np.random.choice(np.arange(1, 11), size=(7))\n",
        "print(matrix1)\n",
        "print(matrix2)\n",
        "mat_rez = np.dot(matrix1, matrix2)\n",
        "print(mat_rez)"
      ],
      "metadata": {
        "colab": {
          "base_uri": "https://localhost:8080/"
        },
        "id": "saKSfYu8Q-XD",
        "outputId": "b454da9c-1040-4f7e-90ac-0229ecf47daf"
      },
      "execution_count": null,
      "outputs": [
        {
          "output_type": "stream",
          "name": "stdout",
          "text": [
            "[1 9 7 3 6 3 5]\n",
            "[9 9 4 3 2 3 2]\n",
            "158\n"
          ]
        }
      ]
    },
    {
      "cell_type": "markdown",
      "source": [
        "\n",
        "Створіть дві матриці розміром 2x2 та 2x3, заповніть їх випадковими цілими числами в діапазоні від 1 до 10 та перемножте їх між собою."
      ],
      "metadata": {
        "id": "TzGXO-IgQ-fE"
      }
    },
    {
      "cell_type": "code",
      "source": [
        "import numpy as np\n",
        "\n",
        "matrix1 = np.random.choice(np.arange(1, 11), size=(2, 2))\n",
        "matrix2 = np.random.choice(np.arange(1, 11), size=(2, 3))\n",
        "print(matrix1)\n",
        "print(matrix2)\n",
        "mat_rez = np.dot(matrix1, matrix2)\n",
        "print(mat_rez)"
      ],
      "metadata": {
        "colab": {
          "base_uri": "https://localhost:8080/"
        },
        "id": "fpXDyOKGRAjJ",
        "outputId": "07d9f167-09ce-42a0-bd55-39ec20a53fc7"
      },
      "execution_count": null,
      "outputs": [
        {
          "output_type": "stream",
          "name": "stdout",
          "text": [
            "[[8 5]\n",
            " [5 4]]\n",
            "[[5 6 3]\n",
            " [7 5 8]]\n",
            "[[75 73 64]\n",
            " [53 50 47]]\n"
          ]
        }
      ]
    },
    {
      "cell_type": "markdown",
      "source": [
        "\n",
        "Створіть матрицю розміром 3x3, заповніть її випадковими цілими числами в діапазоні від 1 до 10 та знайдіть її обернену матрицю.\n"
      ],
      "metadata": {
        "id": "iiv5UM2kRA2_"
      }
    },
    {
      "cell_type": "code",
      "source": [
        "import numpy as np\n",
        "\n",
        "matrix = np.random.choice(np.arange(1, 11), size=(3, 3))\n",
        "print(matrix)\n",
        "mat_inv = np.linalg.inv(matrix)\n",
        "print(mat_inv)"
      ],
      "metadata": {
        "colab": {
          "base_uri": "https://localhost:8080/"
        },
        "id": "t2OMi5g4RDMo",
        "outputId": "8743d141-1a69-4e99-f2f5-087ba108f145"
      },
      "execution_count": null,
      "outputs": [
        {
          "output_type": "stream",
          "name": "stdout",
          "text": [
            "[[4 3 9]\n",
            " [2 2 7]\n",
            " [2 7 4]]\n",
            "[[ 0.73214286 -0.91071429 -0.05357143]\n",
            " [-0.10714286  0.03571429  0.17857143]\n",
            " [-0.17857143  0.39285714 -0.03571429]]\n"
          ]
        }
      ]
    },
    {
      "cell_type": "markdown",
      "source": [
        "Створіть матрицю розміром 4x4, заповніть її випадковими дійсними числами в діапазоні від 0 до 1 та транспонуйте її.\n"
      ],
      "metadata": {
        "id": "GvMjmWrWRD9o"
      }
    },
    {
      "cell_type": "code",
      "source": [
        "import numpy as np\n",
        "\n",
        "matrix = np.random.random((4, 4))\n",
        "print(matrix)\n",
        "t_matrix = matrix.T\n",
        "print(t_matrix)"
      ],
      "metadata": {
        "colab": {
          "base_uri": "https://localhost:8080/"
        },
        "id": "snKo9RzLRGT9",
        "outputId": "4011a8e7-d69e-4511-dff4-2e432ad6b9d7"
      },
      "execution_count": null,
      "outputs": [
        {
          "output_type": "stream",
          "name": "stdout",
          "text": [
            "[[0.04537628 0.82982083 0.129354   0.98205929]\n",
            " [0.13181898 0.87047426 0.70412352 0.11102636]\n",
            " [0.732409   0.18382133 0.16784923 0.25484689]\n",
            " [0.9114776  0.22745097 0.05096559 0.24924184]]\n",
            "[[0.04537628 0.13181898 0.732409   0.9114776 ]\n",
            " [0.82982083 0.87047426 0.18382133 0.22745097]\n",
            " [0.129354   0.70412352 0.16784923 0.05096559]\n",
            " [0.98205929 0.11102636 0.25484689 0.24924184]]\n"
          ]
        }
      ]
    },
    {
      "cell_type": "markdown",
      "source": [
        "Створіть матрицю розміром 3x4 та вектор розміром 4, заповніть їх випадковими цілими числами в діапазоні від 1 до 10 та перемножте матрицю на вектор.\n"
      ],
      "metadata": {
        "id": "CzYThIhgRGkC"
      }
    },
    {
      "cell_type": "code",
      "source": [
        "import numpy as np\n",
        "\n",
        "matrix1 = np.random.choice(np.arange(1, 11), size=(3, 4))\n",
        "matrix2 = np.random.choice(np.arange(1, 11), size=(4))\n",
        "print(matrix1)\n",
        "print(matrix2)\n",
        "mat_rez = np.dot(matrix1, matrix2)\n",
        "print(mat_rez)"
      ],
      "metadata": {
        "colab": {
          "base_uri": "https://localhost:8080/"
        },
        "id": "ct3GmDvfRIyU",
        "outputId": "d9b27fd6-99a1-4e38-b3e1-4559b10b5748"
      },
      "execution_count": null,
      "outputs": [
        {
          "output_type": "stream",
          "name": "stdout",
          "text": [
            "[[ 6  1  1 10]\n",
            " [ 6  9  7  8]\n",
            " [10  2  5  2]]\n",
            "[5 4 8 8]\n",
            "[122 186 114]\n"
          ]
        }
      ]
    },
    {
      "cell_type": "markdown",
      "source": [
        "Створіть матрицю розміром 2x3 та вектор розміром 3, заповніть їх випадковими дійсними числами в діапазоні від 0 до 1 та перемножте матрицю на вектор."
      ],
      "metadata": {
        "id": "2WF7jeXsRI7D"
      }
    },
    {
      "cell_type": "code",
      "source": [
        "import numpy as np\n",
        "\n",
        "matrix1 = np.random.random((2, 3))\n",
        "matrix2 = np.random.random((3))\n",
        "print(matrix1)\n",
        "print(matrix2)\n",
        "mat_rez = np.dot(matrix1, matrix2)\n",
        "print(mat_rez)"
      ],
      "metadata": {
        "colab": {
          "base_uri": "https://localhost:8080/"
        },
        "id": "o0wwS7kMRLpR",
        "outputId": "ef6ad7a7-cf61-4222-a766-c198046198f5"
      },
      "execution_count": null,
      "outputs": [
        {
          "output_type": "stream",
          "name": "stdout",
          "text": [
            "[[0.39192166 0.8397205  0.00862815]\n",
            " [0.71213252 0.69323952 0.15776292]]\n",
            "[0.72151729 0.85795083 0.46455731]\n",
            "[1.00722542 1.18187126]\n"
          ]
        }
      ]
    },
    {
      "cell_type": "markdown",
      "source": [
        "Створіть дві матриці розміром 2x2, заповніть їх випадковими цілими числами в діапазоні від 1 до 10 та виконайте їхнє поелементне множення."
      ],
      "metadata": {
        "id": "CkmNd5DkRLxS"
      }
    },
    {
      "cell_type": "code",
      "source": [
        "import numpy as np\n",
        "\n",
        "matrix1 = np.random.choice(np.arange(1, 11), size=(2, 2))\n",
        "matrix2 = np.random.choice(np.arange(1, 11), size=(2, 2))\n",
        "print(matrix1)\n",
        "print(matrix2)\n",
        "mat_rez = matrix1 * matrix2\n",
        "print(mat_rez)"
      ],
      "metadata": {
        "colab": {
          "base_uri": "https://localhost:8080/"
        },
        "id": "9p4F_ZPcRNSe",
        "outputId": "a1f8cb4f-1ef1-4089-917a-8d7dc9a303b8"
      },
      "execution_count": null,
      "outputs": [
        {
          "output_type": "stream",
          "name": "stdout",
          "text": [
            "[[2 4]\n",
            " [4 1]]\n",
            "[[10  3]\n",
            " [ 3  9]]\n",
            "[[20 12]\n",
            " [12  9]]\n"
          ]
        }
      ]
    },
    {
      "cell_type": "markdown",
      "source": [
        "Створіть дві матриці розміром 2x2, заповніть їх випадковими цілими числами в діапазоні від 1 до 10 та знайдіть їх добуток."
      ],
      "metadata": {
        "id": "AlEh2x1CRNau"
      }
    },
    {
      "cell_type": "code",
      "source": [
        "import numpy as np\n",
        "\n",
        "matrix1 = np.random.choice(np.arange(1, 11), size=(2, 2))\n",
        "matrix2 = np.random.choice(np.arange(1, 11), size=(2, 2))\n",
        "print(matrix1)\n",
        "print(matrix2)\n",
        "mat_rez = np.dot(matrix1, matrix2)\n",
        "print(mat_rez)"
      ],
      "metadata": {
        "colab": {
          "base_uri": "https://localhost:8080/"
        },
        "id": "5LAXCtAhRPSw",
        "outputId": "024608bd-5d8a-426e-9064-7f0844de6e5b"
      },
      "execution_count": null,
      "outputs": [
        {
          "output_type": "stream",
          "name": "stdout",
          "text": [
            "[[6 8]\n",
            " [2 6]]\n",
            "[[8 5]\n",
            " [2 6]]\n",
            "[[64 78]\n",
            " [28 46]]\n"
          ]
        }
      ]
    },
    {
      "cell_type": "markdown",
      "source": [
        "Створіть матрицю розміром 5x5, заповніть її випадковими цілими числами в діапазоні від 1 до 100 та знайдіть суму елементів матриці."
      ],
      "metadata": {
        "id": "jFq4w7jrRPeo"
      }
    },
    {
      "cell_type": "code",
      "source": [
        "import numpy as np\n",
        "\n",
        "matrix = np.random.choice(np.arange(1, 11), size=(5, 5))\n",
        "print(matrix)\n",
        "print(matrix.sum())"
      ],
      "metadata": {
        "colab": {
          "base_uri": "https://localhost:8080/"
        },
        "id": "jVNeIvJmRRZL",
        "outputId": "3f69b8d6-d305-4c71-81d4-ec8bd973a426"
      },
      "execution_count": null,
      "outputs": [
        {
          "output_type": "stream",
          "name": "stdout",
          "text": [
            "[[ 2  2  2 10  9]\n",
            " [10  4  4  2  8]\n",
            " [10  6  7  5  1]\n",
            " [ 3  1 10  9  8]\n",
            " [ 4  5  1  6  5]]\n",
            "134\n"
          ]
        }
      ]
    },
    {
      "cell_type": "markdown",
      "source": [
        "Створіть дві матриці розміром 4x4, заповніть їх випадковими цілими числами в діапазоні від 1 до 10 та знайдіть їхню різницю."
      ],
      "metadata": {
        "id": "CE1AEDJvRRgL"
      }
    },
    {
      "cell_type": "code",
      "source": [
        "import numpy as np\n",
        "\n",
        "matrix1 = np.random.choice(np.arange(1, 11), size=(4, 4))\n",
        "matrix2 = np.random.choice(np.arange(1, 11), size=(4, 4))\n",
        "print(matrix1)\n",
        "print(matrix2)\n",
        "mat_sub = np.subtract(matrix1, matrix2)\n",
        "print(mat_sub)\n"
      ],
      "metadata": {
        "colab": {
          "base_uri": "https://localhost:8080/"
        },
        "id": "u7oRgASCRUwO",
        "outputId": "e9eb3dad-05bc-4bf1-cf69-0804be703833"
      },
      "execution_count": null,
      "outputs": [
        {
          "output_type": "stream",
          "name": "stdout",
          "text": [
            "[[ 6  1  4  4]\n",
            " [ 5  8  2  8]\n",
            " [ 6  2  8  2]\n",
            " [ 5  5 10  9]]\n",
            "[[2 6 9 8]\n",
            " [7 3 5 8]\n",
            " [1 8 2 4]\n",
            " [4 5 1 2]]\n",
            "[[ 4 -5 -5 -4]\n",
            " [-2  5 -3  0]\n",
            " [ 5 -6  6 -2]\n",
            " [ 1  0  9  7]]\n"
          ]
        }
      ]
    },
    {
      "cell_type": "markdown",
      "source": [
        "Створіть матрицю розміром 3x3, заповніть її випадковими дійсними числами в діапазоні від 0 до 1 та знайдіть вектор-стовпчик, що містить суму елементів кожного рядка матриці."
      ],
      "metadata": {
        "id": "NtvDPj01RU3U"
      }
    },
    {
      "cell_type": "code",
      "source": [
        "import numpy as np\n",
        "\n",
        "matrix = np.random.random((3, 3))\n",
        "print(matrix)\n",
        "rez = matrix.sum(axis=1).reshape(-1,1).T\n",
        "print(rez)"
      ],
      "metadata": {
        "colab": {
          "base_uri": "https://localhost:8080/"
        },
        "id": "rtZObfOdRW01",
        "outputId": "e971958c-3c05-445b-e118-03b2af781c8f"
      },
      "execution_count": 57,
      "outputs": [
        {
          "output_type": "stream",
          "name": "stdout",
          "text": [
            "[[0.15168351 0.40327594 0.67747201]\n",
            " [0.82138211 0.973896   0.40071794]\n",
            " [0.40265438 0.60843661 0.33702914]]\n",
            "[[1.23243146 2.19599606 1.34812013]]\n"
          ]
        }
      ]
    },
    {
      "cell_type": "markdown",
      "source": [
        "Створіть матрицю розміром 3x4 з довільними цілими числами і створінь матрицю з квадратами цих чисел."
      ],
      "metadata": {
        "id": "aPqdD-EuRW77"
      }
    },
    {
      "cell_type": "code",
      "source": [
        "import numpy as np\n",
        "matrix = np.random.choice(np.arange(1, 11), size=(3, 4))\n",
        "#matrix = np.random.random((3, 4))\n",
        "print(matrix)\n",
        "rez = matrix * matrix\n",
        "print(rez)"
      ],
      "metadata": {
        "colab": {
          "base_uri": "https://localhost:8080/"
        },
        "id": "kfAMsTgiRY1c",
        "outputId": "57bec112-b4a8-4103-e07c-82d8b497ad74"
      },
      "execution_count": null,
      "outputs": [
        {
          "output_type": "stream",
          "name": "stdout",
          "text": [
            "[[4 8 7 1]\n",
            " [4 5 1 6]\n",
            " [5 4 3 5]]\n",
            "[[16 64 49  1]\n",
            " [16 25  1 36]\n",
            " [25 16  9 25]]\n"
          ]
        }
      ]
    },
    {
      "cell_type": "markdown",
      "source": [
        "Створіть вектор розміром 4, заповніть його випадковими цілими числами в діапазоні від 1 до 50 та знайдіть вектор з квадратними коренями цих чисел."
      ],
      "metadata": {
        "id": "H8TYuQWYRZDM"
      }
    },
    {
      "cell_type": "code",
      "source": [
        "import numpy as np\n",
        "matrix = np.random.choice(np.arange(1, 51), size=(4))\n",
        "print(matrix)\n",
        "rez = np.sqrt(matrix)\n",
        "print(rez)"
      ],
      "metadata": {
        "colab": {
          "base_uri": "https://localhost:8080/"
        },
        "id": "h2xYIZ8zRaeH",
        "outputId": "0e566948-1c30-4be2-8693-2bfe629c8571"
      },
      "execution_count": null,
      "outputs": [
        {
          "output_type": "stream",
          "name": "stdout",
          "text": [
            "[23 10 16  8]\n",
            "[4.79583152 3.16227766 4.         2.82842712]\n"
          ]
        }
      ]
    }
  ]
}